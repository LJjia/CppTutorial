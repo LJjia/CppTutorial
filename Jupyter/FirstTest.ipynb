{
 "cells": [
  {
   "cell_type": "code",
   "execution_count": 1,
   "id": "eee828b7",
   "metadata": {},
   "outputs": [
    {
     "name": "stdout",
     "output_type": "stream",
     "text": [
      "hello world\n"
     ]
    }
   ],
   "source": [
    "#include <iostream>\n",
    "using namespace std;\n",
    "cout<<\"hello world\"<<endl;"
   ]
  },
  {
   "cell_type": "markdown",
   "id": "ff9e1d9b",
   "metadata": {},
   "source": [
    "# hello"
   ]
  },
  {
   "cell_type": "code",
   "execution_count": 2,
   "id": "02e7cf0b",
   "metadata": {},
   "outputs": [],
   "source": [
    "int abcd =10;\n"
   ]
  },
  {
   "cell_type": "code",
   "execution_count": 3,
   "id": "7fea977a",
   "metadata": {},
   "outputs": [],
   "source": [
    "abcd++;"
   ]
  },
  {
   "cell_type": "code",
   "execution_count": 4,
   "id": "b0c9ae1f",
   "metadata": {},
   "outputs": [
    {
     "data": {
      "text/plain": [
       "11"
      ]
     },
     "execution_count": 4,
     "metadata": {},
     "output_type": "execute_result"
    }
   ],
   "source": [
    "abcd"
   ]
  },
  {
   "cell_type": "code",
   "execution_count": null,
   "id": "5992c6cd",
   "metadata": {},
   "outputs": [],
   "source": []
  }
 ],
 "metadata": {
  "kernelspec": {
   "display_name": "C++11",
   "language": "C++11",
   "name": "xcpp11"
  },
  "language_info": {
   "codemirror_mode": "text/x-c++src",
   "file_extension": ".cpp",
   "mimetype": "text/x-c++src",
   "name": "c++",
   "version": "11"
  }
 },
 "nbformat": 4,
 "nbformat_minor": 5
}
